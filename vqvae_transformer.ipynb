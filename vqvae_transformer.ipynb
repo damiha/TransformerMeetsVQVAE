{
 "cells": [
  {
   "cell_type": "code",
   "execution_count": 45,
   "metadata": {},
   "outputs": [],
   "source": [
    "import torch\n",
    "from torchvision import datasets, transforms\n",
    "import torch.nn as nn\n",
    "import matplotlib.pyplot as plt\n",
    "import numpy as np\n",
    "from torch.utils.data import Dataset, DataLoader\n",
    "import math\n",
    "import torch.nn.functional as F\n",
    "from tqdm import tqdm\n",
    "from transformer import Transformer\n",
    "import time\n",
    "from vqvae import VQVAE"
   ]
  },
  {
   "cell_type": "code",
   "execution_count": 46,
   "metadata": {},
   "outputs": [],
   "source": [
    "# Define a transformation to normalize the data\n",
    "transform = transforms.Compose([\n",
    "    transforms.ToTensor(),\n",
    "    transforms.Normalize((0.5,), (0.5, )) # maps [0,1] to [-1, 1]\n",
    "])\n",
    "\n",
    "# Download and load the training data\n",
    "trainset = datasets.FashionMNIST('~/.pytorch/F_MNIST_data/', download=True, train=True, transform=transform)\n",
    "\n",
    "# Download and load the test data\n",
    "testset = datasets.FashionMNIST('~/.pytorch/F_MNIST_data/', download=True, train=False, transform=transform)"
   ]
  },
  {
   "cell_type": "code",
   "execution_count": 47,
   "metadata": {},
   "outputs": [],
   "source": [
    "batch_size = 64\n",
    "\n",
    "img_train_loader = DataLoader(trainset, batch_size=batch_size, shuffle=True)\n",
    "img_test_loader = DataLoader(testset, batch_size=batch_size, shuffle=True)"
   ]
  },
  {
   "cell_type": "code",
   "execution_count": 48,
   "metadata": {},
   "outputs": [],
   "source": [
    "device = \"cuda\" if torch.cuda.is_available() else \"cpu\""
   ]
  },
  {
   "cell_type": "code",
   "execution_count": 49,
   "metadata": {},
   "outputs": [],
   "source": [
    "class TokenDataset(Dataset):\n",
    "    def __init__(self, tokens, context_size):\n",
    "        \n",
    "        self.context_size = context_size\n",
    "        \n",
    "        # expected to be a pytorch tensor\n",
    "        self.tokens = tokens\n",
    "\n",
    "    def __len__(self):\n",
    "        return len(self.tokens) - self.context_size - 1\n",
    "\n",
    "    def __getitem__(self, idx):\n",
    "        x = self.tokens[idx:(idx + self.context_size)]\n",
    "        y = self.tokens[(idx + 1):(idx + self.context_size + 1)]\n",
    "        \n",
    "        return x, y"
   ]
  },
  {
   "cell_type": "code",
   "execution_count": 51,
   "metadata": {},
   "outputs": [
    {
     "name": "stdout",
     "output_type": "stream",
     "text": [
      "Loaded model from vqvae_10e.pth\n"
     ]
    }
   ],
   "source": [
    "# pretrained\n",
    "vqvae_seq_length = 7 * 7\n",
    "\n",
    "vqvae = VQVAE(n_cb_vectors = 64, cb_dim = 16, color_channels = 1)\n",
    "vqvae.load_model(\"vqvae_10e.pth\")"
   ]
  },
  {
   "cell_type": "code",
   "execution_count": 52,
   "metadata": {},
   "outputs": [],
   "source": [
    "def get_dataset_and_seq_length(vqvae, img_data_loader):\n",
    "    \n",
    "    token_offset = vqvae.n_cb_vectors\n",
    "    n_classes = 10\n",
    "    \n",
    "    end_token = token_offset + n_classes\n",
    "    seq_length = None\n",
    "    \n",
    "    batches = []\n",
    "    for i, (img, label) in enumerate(tqdm(img_data_loader)):\n",
    "                \n",
    "        code_tokens = vqvae.get_indices(img)\n",
    "        \n",
    "        start_tokens = (token_offset + label).unsqueeze(1)\n",
    "        \n",
    "        end_tokens = (end_token * torch.ones_like(label)).unsqueeze(1)\n",
    "        \n",
    "        final_tokens = torch.cat((start_tokens, code_tokens, end_tokens), dim=1)\n",
    "        \n",
    "        if seq_length is None:\n",
    "            seq_length = final_tokens.shape[1]\n",
    "            \n",
    "        batches.append(final_tokens)\n",
    "    \n",
    "    \n",
    "    tokens = torch.cat(batches, dim=0).view(-1)\n",
    "    \n",
    "    return TokenDataset(tokens, context_size = seq_length), seq_length"
   ]
  },
  {
   "cell_type": "code",
   "execution_count": 53,
   "metadata": {},
   "outputs": [
    {
     "name": "stderr",
     "output_type": "stream",
     "text": [
      "100%|█████████████████████████████████████████| 938/938 [00:14<00:00, 63.27it/s]\n"
     ]
    }
   ],
   "source": [
    "token_dataset, seq_length = get_dataset_and_seq_length(vqvae, img_data_loader=img_train_loader)"
   ]
  },
  {
   "cell_type": "code",
   "execution_count": 54,
   "metadata": {},
   "outputs": [],
   "source": [
    "train_set, test_set = torch.utils.data.random_split(token_dataset, [0.8, 0.2])"
   ]
  },
  {
   "cell_type": "code",
   "execution_count": 55,
   "metadata": {},
   "outputs": [],
   "source": [
    "batch_size = 128\n",
    "\n",
    "train_loader = DataLoader(train_set, shuffle=True, batch_size=batch_size)\n",
    "test_loader = DataLoader(test_set, shuffle=True, batch_size=batch_size)"
   ]
  },
  {
   "cell_type": "code",
   "execution_count": 56,
   "metadata": {},
   "outputs": [],
   "source": [
    "# taken from: https://stackoverflow.com/questions/71998978/early-stopping-in-pytorch\n",
    "class EarlyStopper:\n",
    "    def __init__(self, patience=1, min_delta=0):\n",
    "        self.patience = patience\n",
    "        self.min_delta = min_delta\n",
    "        self.counter = 0\n",
    "        self.min_validation_loss = float('inf')\n",
    "\n",
    "    def early_stop(self, validation_loss):\n",
    "        if validation_loss < self.min_validation_loss:\n",
    "            self.min_validation_loss = validation_loss\n",
    "            self.counter = 0\n",
    "        elif validation_loss > (self.min_validation_loss + self.min_delta):\n",
    "            self.counter += 1\n",
    "            if self.counter >= self.patience:\n",
    "                return True\n",
    "        return False"
   ]
  },
  {
   "cell_type": "code",
   "execution_count": 57,
   "metadata": {},
   "outputs": [],
   "source": [
    "def train(transformer, train_loader, val_loader, n_epochs,\n",
    "          optimizer=None,\n",
    "          lr_scheduler=None,\n",
    "          early_stopper=None,\n",
    "          metrics_per_epoch=10\n",
    "         ):\n",
    "    \n",
    "    transformer = transformer.to(device)\n",
    "    \n",
    "    if optimizer is None:\n",
    "        optimizer = torch.optim.Adam(transformer.parameters(), lr=3e-4)\n",
    "        print(\"Using default optimizer\")\n",
    "        \n",
    "    if early_stopper is None:\n",
    "        early_stopper = EarlyStopper(patience=3, min_delta=1e-2)\n",
    "        print(\"Using default early stopper\")\n",
    "        \n",
    "    if lr_scheduler is None:\n",
    "        lr_scheduler = torch.optim.lr_scheduler.ReduceLROnPlateau(optimizer,\n",
    "                                                                  factor=0.3, patience=3, min_lr=1e-5,\n",
    "                                                                  threshold=1e-3\n",
    "                                                                 )\n",
    "        print(\"Using default LR scheduler\")\n",
    "    \n",
    "    # label smoothing deactivated for now\n",
    "    criterion_train = nn.CrossEntropyLoss(label_smoothing=0.0)\n",
    "    criterion_test = nn.CrossEntropyLoss()\n",
    "    \n",
    "    train_losses_over_epochs = []\n",
    "    val_losses_over_epochs = []\n",
    "    \n",
    "    metrics_every = len(train_loader) // metrics_per_epoch\n",
    "    in_between_epochs = []\n",
    "    in_between_metrics = []\n",
    "    \n",
    "    for epoch_idx in range(n_epochs):\n",
    "        \n",
    "        train_losses_this_batch = []\n",
    "        transformer.train()\n",
    "        \n",
    "        with tqdm(train_loader, desc=f\"Epoch {epoch_idx + 1}/{n_epochs}\", unit=\"batch\") as tepoch:\n",
    "            for batch_idx, (batch_x, batch_y) in enumerate(tepoch):\n",
    "\n",
    "                # to GPU\n",
    "                batch_x = batch_x.to(device)\n",
    "                batch_y = batch_y.to(device)\n",
    "\n",
    "                logits = transformer(batch_x)\n",
    "\n",
    "                logits = logits.transpose(1, 2)\n",
    "\n",
    "                loss = criterion_train(logits, batch_y)\n",
    "\n",
    "                train_losses_this_batch.append(loss.item())\n",
    "\n",
    "                if batch_idx % metrics_every == 0:\n",
    "                    in_between_loss = np.mean(np.array(train_losses_this_batch)[-metrics_every:])\n",
    "                    in_between_metrics.append(in_between_loss)\n",
    "                    in_between_epochs.append(epoch_idx + (batch_idx / len(train_loader)))\n",
    "\n",
    "                    tepoch.set_postfix(avg_loss=in_between_loss)\n",
    "\n",
    "                optimizer.zero_grad()\n",
    "                loss.backward()\n",
    "                optimizer.step()\n",
    "        \n",
    "        train_loss_this_epoch = np.mean(np.array(train_losses_this_batch))\n",
    "        train_losses_over_epochs.append(train_loss_this_epoch)\n",
    "        \n",
    "        # for early stopping\n",
    "        val_losses_this_batch = []\n",
    "        \n",
    "        transformer.eval()\n",
    "        \n",
    "        with torch.no_grad():\n",
    "            for batch_idx, (batch_x, batch_y) in enumerate(val_loader):\n",
    "\n",
    "                # to GPU\n",
    "                batch_x = batch_x.to(device)\n",
    "                batch_y = batch_y.to(device)\n",
    "\n",
    "                logits = transformer(batch_x)\n",
    "                \n",
    "                logits = logits.transpose(1, 2)\n",
    "\n",
    "                loss = criterion_test(logits, batch_y)\n",
    "\n",
    "                val_losses_this_batch.append(loss.item())\n",
    "        \n",
    "        val_loss_this_epoch = np.mean(np.array(val_losses_this_batch))\n",
    "        val_losses_over_epochs.append(val_loss_this_epoch)\n",
    "        print(f\"{epoch_idx}. avg. train loss = {train_loss_this_epoch}, avg. val loss = {val_loss_this_epoch}\")\n",
    "        \n",
    "        should_stop = early_stopper.early_stop(val_loss_this_epoch)\n",
    "        lr_scheduler.step(val_loss_this_epoch)\n",
    "        \n",
    "        if should_stop:\n",
    "            print(f\"stopping early (val. loss did not decrease for {early_stopper.patience})\")\n",
    "            break\n",
    "        \n",
    "    return train_losses_over_epochs, in_between_epochs, in_between_metrics, val_losses_over_epochs"
   ]
  },
  {
   "cell_type": "code",
   "execution_count": 58,
   "metadata": {},
   "outputs": [],
   "source": [
    "n_classes = 10\n",
    "n_symbols = vqvae.n_cb_vectors + n_classes + 1\n",
    "context_size = seq_length\n",
    "\n",
    "transformer = Transformer(n_symbols, context_size, d_model = 256, n_heads = 8, n_layers=8, device=device)"
   ]
  },
  {
   "cell_type": "code",
   "execution_count": 59,
   "metadata": {},
   "outputs": [],
   "source": [
    "optimizer = torch.optim.Adam(transformer.parameters(), lr=3e-4)"
   ]
  },
  {
   "cell_type": "code",
   "execution_count": 60,
   "metadata": {
    "scrolled": true
   },
   "outputs": [
    {
     "name": "stdout",
     "output_type": "stream",
     "text": [
      "Using default early stopper\n",
      "Using default LR scheduler\n"
     ]
    },
    {
     "name": "stderr",
     "output_type": "stream",
     "text": [
      "Epoch 1/1: 100%|███████| 19125/19125 [21:38<00:00, 14.72batch/s, avg_loss=0.939]\n"
     ]
    },
    {
     "name": "stdout",
     "output_type": "stream",
     "text": [
      "0. avg. train loss = 1.0147820358681523, avg. val loss = 0.9108473021008887\n"
     ]
    }
   ],
   "source": [
    "train_losses, in_between_epochs, in_between_metrics, val_losses =\\\n",
    "train(transformer, train_loader, test_loader, n_epochs=1, optimizer=optimizer, metrics_per_epoch=100)"
   ]
  },
  {
   "cell_type": "code",
   "execution_count": 177,
   "metadata": {
    "scrolled": true
   },
   "outputs": [
    {
     "data": {
      "image/png": "[encoded data removed]",
      "text/plain": [
       "<Figure size 640x480 with 1 Axes>"
      ]
     },
     "metadata": {},
     "output_type": "display_data"
    }
   ],
   "source": [
    "epoch_list = np.arange(len(train_losses)) + 1.0\n",
    "plt.scatter(epoch_list, train_losses, label=\"train\", c=\"blue\")\n",
    "plt.plot(in_between_epochs, in_between_metrics, c=\"blue\")\n",
    "plt.plot(epoch_list, val_losses, label=\"val\", c=\"orange\")\n",
    "plt.xlabel(\"Epochs\")\n",
    "plt.xticks(np.arange(len(train_losses) + 1))\n",
    "plt.ylabel(\"Loss\")\n",
    "plt.legend()\n",
    "plt.show()"
   ]
  },
  {
   "cell_type": "code",
   "execution_count": 61,
   "metadata": {},
   "outputs": [],
   "source": [
    "def query_and_plot(transformer, vqvae,\n",
    "                   prompt_tokens, n_samples,\n",
    "                   n_tokens,\n",
    "                   beta):\n",
    "    \n",
    "    transformer.eval()\n",
    "    vqvae.eval()\n",
    "    \n",
    "    vqvae.to(device)\n",
    "        \n",
    "    sampling_start_time = time.time()\n",
    "    \n",
    "    response = transformer.sample(prompt_tokens=prompt_tokens, n_tokens=n_tokens,\n",
    "                                  n_samples=n_samples, beta=beta)[:, 1:-1]\n",
    "    \n",
    "    sampling_end_time = time.time()\n",
    "    print(f\"Sampling time: {sampling_end_time - sampling_start_time:.2f}s\")\n",
    "    \n",
    "    # make sure response only has codebook vectors\n",
    "    response = torch.clamp(response, min=0, max=vqvae.n_cb_vectors - 1)\n",
    "    \n",
    "    response = response.contiguous()\n",
    "    torch_images = vqvae.get_image_from_indices(response, H=7, W=7)\n",
    "    images = torch_images.permute(0, 2, 3, 1).cpu()\n",
    "        \n",
    "    conversion_end_time = time.time()\n",
    "    \n",
    "    print(f\"Conversion time: {conversion_end_time - sampling_end_time:.2f}s\")\n",
    "    \n",
    "    # Calculate the number of rows needed to display the images\n",
    "    nrows = (len(images) + 3) // 4  # Ensure there's enough rows, rounding up\n",
    "    fig, axs = plt.subplots(nrows=nrows, ncols=4, figsize=(20, nrows*5))  # Each image will have space allocated in the grid\n",
    "    \n",
    "    # Flatten the axes array for easy iteration\n",
    "    axs = axs.flatten()\n",
    "    \n",
    "    # Loop through the images and plot them\n",
    "    for i, img in enumerate(images):\n",
    "        axs[i].imshow(img, cmap=\"gray\")\n",
    "        axs[i].axis('off')  # Turn off the axis to only show the image\n",
    "    \n",
    "    # Turn off any unused subplots\n",
    "    for i in range(len(images), len(axs)):\n",
    "        axs[i].axis('off')\n",
    "    \n",
    "    plt.show()\n",
    "    \n",
    "    display_time_end = time.time()\n",
    "    print(f\"Display time: {display_time_end - conversion_end_time:.2f}s\")\n",
    "    "
   ]
  },
  {
   "cell_type": "code",
   "execution_count": 62,
   "metadata": {},
   "outputs": [
    {
     "name": "stdout",
     "output_type": "stream",
     "text": [
      "Model saved to transformer_1e.pth\n"
     ]
    }
   ],
   "source": [
    "transformer.save_model(\"transformer_1e.pth\")"
   ]
  },
  {
   "cell_type": "code",
   "execution_count": 17,
   "metadata": {},
   "outputs": [],
   "source": [
    "#transformer.load_model(\"mnist_transformer.pth\")"
   ]
  },
  {
   "cell_type": "raw",
   "metadata": {},
   "source": [
    "0 \tT-shirt/top\n",
    "1 \tTrouser\n",
    "2 \tPullover\n",
    "3 \tDress\n",
    "4 \tCoat\n",
    "5 \tSandal\n",
    "6 \tShirt\n",
    "7 \tSneaker\n",
    "8 \tBag\n",
    "9 \tAnkle boot"
   ]
  },
  {
   "cell_type": "code",
   "execution_count": 72,
   "metadata": {
    "scrolled": true
   },
   "outputs": [
    {
     "name": "stdout",
     "output_type": "stream",
     "text": [
      "Prompt tokens: [73]\n",
      "Sampling time: 0.42s\n",
      "Conversion time: 0.00s\n"
     ]
    },
    {
     "data": {
      "image/png": "[encoded data removed]",
      "text/plain": [
       "<Figure size 2000x1000 with 8 Axes>"
      ]
     },
     "metadata": {},
     "output_type": "display_data"
    },
    {
     "name": "stdout",
     "output_type": "stream",
     "text": [
      "Display time: 0.31s\n"
     ]
    }
   ],
   "source": [
    "number_to_generate = 9\n",
    "query_and_plot(transformer, vqvae, prompt_tokens=[64 + number_to_generate],\n",
    "               n_samples = 8, beta=0.8, n_tokens = seq_length)"
   ]
  },
  {
   "cell_type": "code",
   "execution_count": null,
   "metadata": {},
   "outputs": [],
   "source": []
  }
 ],
 "metadata": {
  "kernelspec": {
   "display_name": "inpainting",
   "language": "python",
   "name": "myenv"
  },
  "language_info": {
   "codemirror_mode": {
    "name": "ipython",
    "version": 3
   },
   "file_extension": ".py",
   "mimetype": "text/x-python",
   "name": "python",
   "nbconvert_exporter": "python",
   "pygments_lexer": "ipython3",
   "version": "3.10.9"
  }
 },
 "nbformat": 4,
 "nbformat_minor": 2
}
