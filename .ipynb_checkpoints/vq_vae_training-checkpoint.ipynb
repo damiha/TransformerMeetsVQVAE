{
 "cells": [
  {
   "cell_type": "code",
   "execution_count": 160,
   "metadata": {},
   "outputs": [],
   "source": [
    "from torchvision import datasets, transforms\n",
    "from torch.utils.data import DataLoader\n",
    "import torch.nn as nn\n",
    "import torch\n",
    "from tqdm import tqdm\n",
    "import numpy as np\n",
    "import matplotlib.pyplot as plt"
   ]
  },
  {
   "cell_type": "code",
   "execution_count": 330,
   "metadata": {},
   "outputs": [],
   "source": [
    "# Define a transformation to normalize the data\n",
    "transform = transforms.Compose([\n",
    "    transforms.ToTensor(),\n",
    "    transforms.Normalize((0.5,), (0.5, )) # maps [0,1] to [-1, 1]\n",
    "])\n",
    "\n",
    "# Download and load the training data\n",
    "trainset = datasets.FashionMNIST('~/.pytorch/F_MNIST_data/', download=True, train=True, transform=transform)\n",
    "\n",
    "# Download and load the test data\n",
    "testset = datasets.FashionMNIST('~/.pytorch/F_MNIST_data/', download=True, train=False, transform=transform)"
   ]
  },
  {
   "cell_type": "code",
   "execution_count": 331,
   "metadata": {},
   "outputs": [],
   "source": [
    "device = \"cuda\" if torch.cuda.is_available() else \"cpu\""
   ]
  },
  {
   "cell_type": "code",
   "execution_count": 332,
   "metadata": {},
   "outputs": [],
   "source": [
    "batch_size = 64\n",
    "\n",
    "train_loader = DataLoader(trainset, batch_size=batch_size, shuffle=True)\n",
    "test_loader = DataLoader(testset, batch_size=batch_size, shuffle=True)"
   ]
  },
  {
   "cell_type": "code",
   "execution_count": 409,
   "metadata": {},
   "outputs": [],
   "source": [
    "class VQVAE(nn.Module):\n",
    "    \n",
    "    def __init__(self, n_cb_vectors, cb_dim, color_channels):\n",
    "        \n",
    "        super().__init__()\n",
    "        \n",
    "        self.color_channels = color_channels\n",
    "        self.n_cb_vectors = n_cb_vectors\n",
    "        self.cb_dim = cb_dim\n",
    "        \n",
    "        self.codebook = nn.Embedding(num_embeddings = n_cb_vectors, embedding_dim = cb_dim)\n",
    "        \n",
    "        negative_slope = 0.1\n",
    "        \n",
    "        encoder_dims = [16, 4]\n",
    "        \n",
    "        self.encoder = nn.Sequential(\n",
    "            nn.Conv2d(color_channels, encoder_dims[0], kernel_size=3, stride=2, padding=1),\n",
    "            nn.BatchNorm2d(encoder_dims[0]),\n",
    "            nn.LeakyReLU(negative_slope),\n",
    "            nn.Conv2d(encoder_dims[0],  encoder_dims[1], kernel_size=3, stride=2, padding=1),\n",
    "            nn.BatchNorm2d(encoder_dims[1]),\n",
    "            nn.LeakyReLU(negative_slope),\n",
    "        )\n",
    "        \n",
    "        # make encoder independent from codebook\n",
    "        self.pre_quant_conv = nn.Conv2d(encoder_dims[1], cb_dim, kernel_size=3, stride=1, padding=1)\n",
    "        \n",
    "        decoder_dims = [4, 16, 32]\n",
    "        self.post_quant_conv = nn.Conv2d(cb_dim, decoder_dims[0], kernel_size=3, stride=1, padding=1)\n",
    "        \n",
    "        self.decoder = nn.Sequential(\n",
    "            nn.ConvTranspose2d(decoder_dims[0], decoder_dims[1], kernel_size=3, stride=2,\n",
    "                               padding=1, output_padding=1),\n",
    "            nn.BatchNorm2d(decoder_dims[1]),\n",
    "            nn.LeakyReLU(negative_slope),\n",
    "            nn.ConvTranspose2d(decoder_dims[1], decoder_dims[2], kernel_size=3, stride=2, padding=1,\n",
    "                               output_padding=1),\n",
    "            nn.BatchNorm2d(decoder_dims[2]),\n",
    "            nn.LeakyReLU(negative_slope),\n",
    "            # smoothen the final image\n",
    "            nn.Conv2d(decoder_dims[2], color_channels, kernel_size=3, stride=1, padding=1),\n",
    "            nn.Tanh() # since input is in [-1, 1]\n",
    "        )\n",
    "        \n",
    "        # recommended by original paper\n",
    "        # hyperparameter should be in range (0.1, 2.0), quite stable\n",
    "        # in front of commitment loss (forces encoder to work with codebook)\n",
    "        self.beta = 0.25\n",
    "        \n",
    "    def load_model(self, path):\n",
    "        self.load_state_dict(torch.load(path))\n",
    "        print(f\"Loaded model from {path}\")\n",
    "\n",
    "    def save_model(self, path):\n",
    "        \"\"\"\n",
    "        Save the model's parameters to the given path.\n",
    "        \"\"\"\n",
    "        torch.save(self.state_dict(), path)\n",
    "        print(f\"Saved model to {path}\")\n",
    "        \n",
    "    def forward(self, x):\n",
    "        \n",
    "        #print(x.shape)\n",
    "        \n",
    "        encoder_output = self.encoder(x)\n",
    "        \n",
    "        #print(x.shape)\n",
    "        \n",
    "        pre_quant = self.pre_quant_conv(encoder_output)\n",
    "        \n",
    "        #print(pre_quant.shape)\n",
    "        \n",
    "        # B, C, H, W -> B, H, W, C\n",
    "        B, C, H, W = pre_quant.shape\n",
    "        quant_input = pre_quant.permute(0, 2, 3, 1)\n",
    "        quant_input = quant_input.reshape((B, -1, C))\n",
    "        \n",
    "        \n",
    "        # quant_input = B, num_vectors, codebook_dim\n",
    "        \n",
    "        # None adds an extra dimension like unsqueeze(0)\n",
    "        codebook_vectors = self.codebook.weight.unsqueeze(0).repeat((B, 1, 1))\n",
    "        \n",
    "        # codebook_vectors = B, vectors in codebook, codebook_dim\n",
    "        \n",
    "        # cdist takes l2 norm by default\n",
    "        dist = torch.cdist(quant_input, codebook_vectors)\n",
    "        \n",
    "        # dist = B, vectors in image, vectors in codebook (for every vector in image, we get every l2 distance)\n",
    "        # to each of the codebook vectors\n",
    "        \n",
    "        # (B, vectors in image, index of nearest codebook vector)\n",
    "        min_indices = torch.argmin(dist, dim = -1)\n",
    "        \n",
    "        # (B * vectors in image, codebook_dim)\n",
    "        quantized = torch.index_select(self.codebook.weight, dim=0, index=min_indices.view(-1))\n",
    "        \n",
    "        # reshape so we can compare the two\n",
    "        quant_input = quant_input.reshape((-1, self.cb_dim))\n",
    "        \n",
    "        # codebook should be close to what the encoder spits out\n",
    "        codebook_loss = torch.mean((quant_input.detach() - quantized)**2)\n",
    "        \n",
    "        # encoder should spit out what the codebook already offers\n",
    "        commitment_loss = torch.mean((quantized.detach() - quant_input)**2)\n",
    "        \n",
    "        quantized_loss = codebook_loss + self.beta * commitment_loss\n",
    "        \n",
    "        # straight through gradient (argmax blocks the gradient so we copy them)\n",
    "        # = quantized\n",
    "        quantized = quant_input + (quantized - quant_input).detach()\n",
    "        quantized = quantized.view((B, H, W, -1))\n",
    "        quantized = quantized.permute(0, 3, 1, 2)\n",
    "        \n",
    "        post_quant = self.post_quant_conv(quantized)\n",
    "        \n",
    "        #print(post_quant.shape)\n",
    "        \n",
    "        decoder_output = self.decoder(post_quant)\n",
    "        \n",
    "        return decoder_output, quantized_loss\n",
    "    \n",
    "    def get_indices(self, x):\n",
    "        \n",
    "        with torch.no_grad():\n",
    "        \n",
    "            encoder_output = self.encoder(x)\n",
    "\n",
    "            #print(x.shape)\n",
    "\n",
    "            pre_quant = self.pre_quant_conv(encoder_output)\n",
    "\n",
    "            #print(pre_quant.shape)\n",
    "\n",
    "            # B, C, H, W -> B, H, W, C\n",
    "            B, C, H, W = pre_quant.shape\n",
    "            quant_input = pre_quant.permute(0, 2, 3, 1)\n",
    "            quant_input = quant_input.reshape((B, -1, C))\n",
    "\n",
    "\n",
    "            # quant_input = B, num_vectors, codebook_dim\n",
    "\n",
    "            # None adds an extra dimension like unsqueeze(0)\n",
    "            codebook_vectors = self.codebook.weight.unsqueeze(0).repeat((B, 1, 1))\n",
    "\n",
    "            # codebook_vectors = B, vectors in codebook, codebook_dim\n",
    "\n",
    "            # cdist takes l2 norm by default\n",
    "            dist = torch.cdist(quant_input, codebook_vectors)\n",
    "\n",
    "            # dist = B, vectors in image, vectors in codebook (for every vector in image, we get every l2 distance)\n",
    "            # to each of the codebook vectors\n",
    "\n",
    "            # (B, vectors in image, index of nearest codebook vector)\n",
    "            min_indices = torch.argmin(dist, dim = -1)\n",
    "        \n",
    "        return min_indices\n",
    "    \n",
    "    def get_image_from_indices(self, min_indices, H, W):\n",
    "        \n",
    "        B = min_indices.shape[0]\n",
    "        \n",
    "        with torch.no_grad():\n",
    "        \n",
    "            # (B * vectors in image, codebook_dim)\n",
    "            quantized = torch.index_select(self.codebook.weight, dim=0, index=min_indices.view(-1))\n",
    "\n",
    "            # straight through gradient (argmax blocks the gradient so we copy them)\n",
    "            # = quantized\n",
    "            quantized = quantized.view((B, H, W, -1))\n",
    "            quantized = quantized.permute(0, 3, 1, 2)\n",
    "\n",
    "            post_quant = self.post_quant_conv(quantized)\n",
    "\n",
    "            #print(post_quant.shape)\n",
    "\n",
    "            decoder_output = self.decoder(post_quant)\n",
    "        \n",
    "        return decoder_output"
   ]
  },
  {
   "cell_type": "code",
   "execution_count": 404,
   "metadata": {},
   "outputs": [],
   "source": [
    "def train(model, train_loader, test_loader, optimizer, n_epochs):\n",
    "    \n",
    "    criterion = nn.MSELoss()\n",
    "    #criterion = nn.L1Loss()\n",
    "    \n",
    "    train_losses = []\n",
    "    \n",
    "    for epoch_idx in range(n_epochs):\n",
    "        \n",
    "        model.train()\n",
    "        model.to(device)\n",
    "        \n",
    "        train_losses_this_epoch = []\n",
    "        \n",
    "        for batch_idx, (images, _) in enumerate(tqdm(train_loader)):\n",
    "            \n",
    "            images = images.to(device)\n",
    "            \n",
    "            reconstructed, quantization_losses = model(images)\n",
    "            \n",
    "            loss = criterion(reconstructed, images) + quantization_losses\n",
    "            \n",
    "            train_losses_this_epoch.append(loss.item())\n",
    "            \n",
    "            optimizer.zero_grad()\n",
    "            loss.backward()\n",
    "            optimizer.step()\n",
    "        \n",
    "        train_losses.append(np.mean(np.array(train_losses_this_epoch)))\n",
    "        print(f\"{epoch_idx + 1}/{n_epochs}: avg. train loss = {train_losses[-1]}\")"
   ]
  },
  {
   "cell_type": "code",
   "execution_count": 410,
   "metadata": {},
   "outputs": [],
   "source": [
    "vqvae = VQVAE(n_cb_vectors = 64, cb_dim = 16, color_channels = 1)"
   ]
  },
  {
   "cell_type": "code",
   "execution_count": 390,
   "metadata": {},
   "outputs": [],
   "source": [
    "optim = torch.optim.Adam(vqvae.parameters(), lr = 1e-3)"
   ]
  },
  {
   "cell_type": "code",
   "execution_count": 391,
   "metadata": {},
   "outputs": [
    {
     "name": "stderr",
     "output_type": "stream",
     "text": [
      "100%|█████████████████████████████████████████| 938/938 [00:20<00:00, 46.63it/s]\n"
     ]
    },
    {
     "name": "stdout",
     "output_type": "stream",
     "text": [
      "1/3: avg. train loss = 0.3534857336042532\n"
     ]
    },
    {
     "name": "stderr",
     "output_type": "stream",
     "text": [
      "100%|█████████████████████████████████████████| 938/938 [00:19<00:00, 47.95it/s]\n"
     ]
    },
    {
     "name": "stdout",
     "output_type": "stream",
     "text": [
      "2/3: avg. train loss = 0.1450173667927922\n"
     ]
    },
    {
     "name": "stderr",
     "output_type": "stream",
     "text": [
      "100%|█████████████████████████████████████████| 938/938 [00:21<00:00, 42.65it/s]"
     ]
    },
    {
     "name": "stdout",
     "output_type": "stream",
     "text": [
      "3/3: avg. train loss = 0.11548608548637392\n"
     ]
    },
    {
     "name": "stderr",
     "output_type": "stream",
     "text": [
      "\n"
     ]
    }
   ],
   "source": [
    "train(vqvae, train_loader, test_loader, optim, n_epochs = 3)"
   ]
  },
  {
   "cell_type": "code",
   "execution_count": 392,
   "metadata": {},
   "outputs": [],
   "source": [
    "def plot_target_reconstruction(model, test_loader, k=8):\n",
    "    \n",
    "    model.eval\n",
    "    device = next(model.parameters()).device  # Get device from model parameters\n",
    "\n",
    "    fig, axes = plt.subplots(k // 2, 4, figsize=(12, 6))  # Create subplots grid\n",
    "\n",
    "    images, labels = next(iter(test_loader))\n",
    "    images = images.to(device)\n",
    "    labels = labels.to(device)\n",
    "\n",
    "    with torch.no_grad():  # Disable gradient calculation for efficiency\n",
    "        reconstructions, _ = model(images)\n",
    "\n",
    "    # Iterate over images and reconstructions in batches\n",
    "    for j in range(k):\n",
    "        image, label, reconstruction = images[j], labels[j], reconstructions[j]\n",
    "\n",
    "        # Reshape and normalize if image data requires it\n",
    "        image = image.cpu().squeeze()  # Assuming grayscale or single-channel\n",
    "        reconstruction = reconstruction.cpu().squeeze()\n",
    "\n",
    "        # Normalize image data to [0, 1] for visualization (if necessary)\n",
    "        image = (image - image.min()) / (image.max() - image.min())\n",
    "        \n",
    "        reconstruction = (reconstruction - reconstruction.min()) / (reconstruction.max() - reconstruction.min())\n",
    "        \n",
    "        row_idx = j // 2\n",
    "        col_idx = 2 * (j % 2)\n",
    "\n",
    "        # Plot target and reconstruction on the same subplot\n",
    "        axes[row_idx, col_idx].imshow(image, cmap='gray')\n",
    "        axes[row_idx, col_idx].set_title(f\"Target (Label: {label.item()})\")\n",
    "        axes[row_idx, col_idx].axis('off')\n",
    "\n",
    "        axes[row_idx, col_idx + 1].imshow(reconstruction, cmap='gray')\n",
    "        axes[row_idx, col_idx + 1].set_title(f\"Reconstruction\")\n",
    "        axes[row_idx, col_idx + 1].axis('off')\n",
    "\n",
    "    # Tight layout for better spacing and prevent overlapping titles\n",
    "    fig.tight_layout()\n",
    "    plt.show()"
   ]
  },
  {
   "cell_type": "code",
   "execution_count": 393,
   "metadata": {},
   "outputs": [
    {
     "data": {
      "image/png": "[encoded data removed]",
      "text/plain": [
       "<Figure size 1200x600 with 16 Axes>"
      ]
     },
     "metadata": {},
     "output_type": "display_data"
    }
   ],
   "source": [
    "# Example usage (assuming your model and test_loader are defined)\n",
    "plot_target_reconstruction(vqvae, test_loader, k=8)"
   ]
  }
 ],
 "metadata": {
  "kernelspec": {
   "display_name": "inpainting",
   "language": "python",
   "name": "myenv"
  },
  "language_info": {
   "codemirror_mode": {
    "name": "ipython",
    "version": 3
   },
   "file_extension": ".py",
   "mimetype": "text/x-python",
   "name": "python",
   "nbconvert_exporter": "python",
   "pygments_lexer": "ipython3",
   "version": "3.10.9"
  }
 },
 "nbformat": 4,
 "nbformat_minor": 2
}
